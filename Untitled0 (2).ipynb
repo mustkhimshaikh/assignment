{
  "nbformat": 4,
  "nbformat_minor": 0,
  "metadata": {
    "colab": {
      "provenance": []
    },
    "kernelspec": {
      "name": "python3",
      "display_name": "Python 3"
    },
    "language_info": {
      "name": "python"
    }
  },
  "cells": [
    {
      "cell_type": "markdown",
      "source": [
        "1] explain the key feature of python that make it a popular choice for programming\n",
        "  \n",
        "ans:    python is dynamic,high level free, open source, and interpreted programming language. as well as it support object oriented programming lamguage.\n",
        "features in python:-\n",
        " 1. easy to code '\n",
        " 2. easy to read\n",
        " 3.object oriented laguage\n",
        " 4.high level lnguage\n",
        " 5.portable language\n",
        "\n",
        "\n",
        "2]decribe the role of predifined keywords in python. and provides example of how they are used in program\n",
        "\n",
        "ans:predined words are already define word ,python reserve dfor working program that have a specific meanings. a programer cant use the keywords as a variable\n",
        "examples are print, these is used while printing the output,2.input these is used for entering the input\n",
        "\n",
        "\n",
        "\n",
        "\n",
        "3]Compare and contrast mutable and immutable objects in Python with examples\n",
        "\n",
        "ans:the object that can be modfied is mutable and the object which cannot be modified is immutable the immutable objects are strings and tuples which cannot be change . mutuable objects are list, dictonaries and sets\n",
        "\n",
        "\n",
        "4]discuss the diffrent types of operators in python and provides examples of how they are used\n",
        "\n",
        "ans:python divides the operators in the following groups:\n",
        "arithmetics operators ,assingment operators ,comparison operator ,logically operators ,identity operator ,member ship and bitwise operator\n",
        "arithmetics operators are used in mathematical operations such as adding multiplying the operwtions ,\n",
        "comparison operaters are used to compare the statements\n",
        "bitwise operators are done in the bit level operatiob=ns there are two types of operator right bit wise ,and left bit wise\n",
        "\n",
        "5]explain the concept of type casting in Python with examples\n",
        "\n",
        "ans:the concept of type casting is to change the data types of the variables these is basically used to change the data types of variables\n",
        "for example if there is list we can convert that list to tuple\n",
        "\n",
        "\n",
        "6] How do conditional statements work in Python? Illustrate with examples\n",
        "\n",
        "ans:conditional statement work such as if we are giving the statement if (3+3=7):\n",
        "but the condition is not true so it will moves towards the else statement and print the staement which is in else block\n",
        "examples:\n",
        "x=9\n",
        "if (x=9):\n",
        "  print (\"the statment is  true\")\n",
        "else:\n",
        "  print (\"the statement is false\")\n",
        "\n",
        "\n",
        "7]Describe the diffe$ent types of loops in Python and their use cases with examples\n",
        "\n",
        "ans: the diffrent types of are for loops ,while loops ,nested loop\n",
        "for loop in = python is used to iterate over a sequence\n",
        "while loops : the while loop is used to execute a set of state ment as long as the condition is true\n",
        "nested loop : if a loop exist inside the body of another loop\n",
        "\n",
        "\n",
        "\n"
      ],
      "metadata": {
        "id": "C5D6kD4RQoIM"
      }
    }
  ]
}